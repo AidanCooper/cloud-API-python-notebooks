{
 "cells": [
  {
   "cell_type": "markdown",
   "metadata": {},
   "source": [
    "# AWS Translate"
   ]
  },
  {
   "cell_type": "markdown",
   "metadata": {},
   "source": [
    "Translate text to english (supported languages <a href=\"https://docs.aws.amazon.com/translate/latest/dg/what-is.html\">here</a>).\n",
    "\n",
    "<a href=\"https://aws.amazon.com/documentation/translate/\">AWS Translate Documentation</a>"
   ]
  },
  {
   "cell_type": "code",
   "execution_count": 1,
   "metadata": {
    "collapsed": true
   },
   "outputs": [],
   "source": [
    "import boto3"
   ]
  },
  {
   "cell_type": "code",
   "execution_count": 2,
   "metadata": {
    "collapsed": true
   },
   "outputs": [],
   "source": [
    "def aws_translate(text):\n",
    "    client = boto3.client(service_name='translate',\n",
    "                          region_name='eu-west-1',\n",
    "                          use_ssl=True)\n",
    "    \n",
    "    result = client.translate_text(Text=text,\n",
    "                                   SourceLanguageCode='auto',\n",
    "                                   TargetLanguageCode='en')\n",
    "    \n",
    "    return result.get('TranslatedText')"
   ]
  },
  {
   "cell_type": "code",
   "execution_count": 3,
   "metadata": {},
   "outputs": [],
   "source": [
    "input_text = \"ここにAWS翻訳のための日本語のセンテンスがあります！\"\n",
    "result = aws_translate(input_text)"
   ]
  },
  {
   "cell_type": "code",
   "execution_count": 4,
   "metadata": {},
   "outputs": [
    {
     "name": "stdout",
     "output_type": "stream",
     "text": [
      "Here is a Japanese sentence for AWS translation!\n"
     ]
    }
   ],
   "source": [
    "# Print translated text\n",
    "print(result)"
   ]
  },
  {
   "cell_type": "code",
   "execution_count": null,
   "metadata": {
    "collapsed": true
   },
   "outputs": [],
   "source": []
  }
 ],
 "metadata": {
  "kernelspec": {
   "display_name": "Python 3",
   "language": "python",
   "name": "python3"
  },
  "language_info": {
   "codemirror_mode": {
    "name": "ipython",
    "version": 3
   },
   "file_extension": ".py",
   "mimetype": "text/x-python",
   "name": "python",
   "nbconvert_exporter": "python",
   "pygments_lexer": "ipython3",
   "version": "3.6.1"
  }
 },
 "nbformat": 4,
 "nbformat_minor": 2
}
