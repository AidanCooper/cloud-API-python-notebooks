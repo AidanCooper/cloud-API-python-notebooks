{
 "cells": [
  {
   "cell_type": "markdown",
   "metadata": {},
   "source": [
    "# AWS S3 Storage\n",
    "\n",
    "Functions for uploading a local file to S3, downloading a file locally from S3, and deleting files and buckets on S3.\n",
    "\n",
    "<a href='https://aws.amazon.com/documentation/s3/'>Amazon S3 Documentation</a>"
   ]
  },
  {
   "cell_type": "code",
   "execution_count": 1,
   "metadata": {
    "collapsed": true
   },
   "outputs": [],
   "source": [
    "import boto3"
   ]
  },
  {
   "cell_type": "code",
   "execution_count": 2,
   "metadata": {
    "collapsed": true
   },
   "outputs": [],
   "source": [
    "# Create example file to be uploaded\n",
    "!echo test file > test.txt"
   ]
  },
  {
   "cell_type": "code",
   "execution_count": 3,
   "metadata": {
    "collapsed": true
   },
   "outputs": [],
   "source": [
    "def aws_s3_upload(file_name, bucket_name):\n",
    "    s3 = boto3.resource('s3')\n",
    "    \n",
    "    # Create bucket if it doesn't already exist\n",
    "    bucket_names = [b.name for b in s3.buckets.all()]\n",
    "    if bucket_name not in bucket_names:\n",
    "        s3.create_bucket(Bucket=bucket_name,\n",
    "                         CreateBucketConfiguration={'LocationConstraint': 'EU'})\n",
    "        print(\"Bucket {} created.\".format(bucket_name))\n",
    "        \n",
    "    s3.meta.client.upload_file(file_name, bucket_name, file_name)\n",
    "    print(\"{} uploaded to {}.\".format(file_name, bucket_name))\n",
    "    return\n",
    "\n",
    "\n",
    "def aws_s3_get(file_name, bucket_name):\n",
    "    s3 = boto3.resource('s3')\n",
    "    try:\n",
    "        s3.Bucket(bucket_name).download_file(file_name, 'downloaded_%s' % file_name)\n",
    "        print(\"{} downloaded from {} as {}.\".format(file_name, bucket_name,\n",
    "                                                    'downloaded_%s' % file_name))\n",
    "    except:\n",
    "        print(\"Unable to download {} from {}.\".format(file_name, bucket_name))\n",
    "    return\n",
    "\n",
    "\n",
    "def aws_s3_delete(file_name, bucket_name, del_bucket=False):\n",
    "    s3 = boto3.resource('s3')\n",
    "    try:\n",
    "        s3.meta.client.delete_object(Bucket=bucket_name, Key=file_name)\n",
    "        print(\"{} deleted from {}.\".format(file_name, bucket_name))\n",
    "    except:\n",
    "        print(\"Unable to delete {} from {}.\".format(file_name, bucket_name))\n",
    "        \n",
    "    if del_bucket:\n",
    "        try:\n",
    "            s3.meta.client.delete_bucket(Bucket=bucket_name)\n",
    "            print(\"Bucket {} deleted.\".format(bucket_name))\n",
    "        except:\n",
    "            print(\"Unable to delete bucket {}.\".format(bucket_name))    \n",
    "    return"
   ]
  },
  {
   "cell_type": "code",
   "execution_count": 4,
   "metadata": {
    "collapsed": true
   },
   "outputs": [],
   "source": [
    "file_name = 'test.txt'\n",
    "bucket_name = 'test-s3-bucket-000'"
   ]
  },
  {
   "cell_type": "code",
   "execution_count": 5,
   "metadata": {
    "collapsed": false
   },
   "outputs": [
    {
     "name": "stdout",
     "output_type": "stream",
     "text": [
      "Bucket test-s3-bucket-000 created.\n",
      "test.txt uploaded to test-s3-bucket-000.\n"
     ]
    }
   ],
   "source": [
    "aws_s3_upload(file_name, bucket_name)"
   ]
  },
  {
   "cell_type": "code",
   "execution_count": 6,
   "metadata": {
    "collapsed": false
   },
   "outputs": [
    {
     "name": "stdout",
     "output_type": "stream",
     "text": [
      "test.txt downloaded from test-s3-bucket-000 as downloaded_test.txt.\n"
     ]
    }
   ],
   "source": [
    "aws_s3_get(file_name, bucket_name)"
   ]
  },
  {
   "cell_type": "code",
   "execution_count": 7,
   "metadata": {
    "collapsed": false
   },
   "outputs": [
    {
     "name": "stdout",
     "output_type": "stream",
     "text": [
      "test.txt deleted from test-s3-bucket-000.\n",
      "Bucket test-s3-bucket-000 deleted.\n"
     ]
    }
   ],
   "source": [
    "aws_s3_delete(file_name, bucket_name, del_bucket=True)"
   ]
  },
  {
   "cell_type": "code",
   "execution_count": null,
   "metadata": {
    "collapsed": true
   },
   "outputs": [],
   "source": []
  }
 ],
 "metadata": {
  "kernelspec": {
   "display_name": "Python [default]",
   "language": "python",
   "name": "python3"
  },
  "language_info": {
   "codemirror_mode": {
    "name": "ipython",
    "version": 3
   },
   "file_extension": ".py",
   "mimetype": "text/x-python",
   "name": "python",
   "nbconvert_exporter": "python",
   "pygments_lexer": "ipython3",
   "version": "3.6.6"
  }
 },
 "nbformat": 4,
 "nbformat_minor": 2
}
