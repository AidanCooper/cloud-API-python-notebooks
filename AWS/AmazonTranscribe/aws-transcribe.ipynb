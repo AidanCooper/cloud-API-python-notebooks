{
 "cells": [
  {
   "cell_type": "markdown",
   "metadata": {},
   "source": [
    "# AWS Transcribe\n",
    "\n",
    "Transcribe an audio file to text.\n",
    "\n",
    "<a href=\"https://docs.aws.amazon.com/transcribe/index.html#lang/en_us\">AWS Transcribe Documentation</a>\n",
    "\n",
    "This notebook uploads an audio file to S3, transcribes it, and then deletes the file from S3."
   ]
  },
  {
   "cell_type": "code",
   "execution_count": 1,
   "metadata": {},
   "outputs": [],
   "source": [
    "import boto3\n",
    "import time\n",
    "import json\n",
    "import urllib.request"
   ]
  },
  {
   "cell_type": "code",
   "execution_count": 2,
   "metadata": {},
   "outputs": [],
   "source": [
    "def aws_s3_upload(file_name, bucket_name):\n",
    "    s3 = boto3.resource('s3')\n",
    "    \n",
    "    # Create bucket if it doesn't already exist\n",
    "    bucket_names = [b.name for b in s3.buckets.all()]\n",
    "    if bucket_name not in bucket_names:\n",
    "        s3.create_bucket(Bucket=bucket_name,\n",
    "                         CreateBucketConfiguration={'LocationConstraint': 'EU'})\n",
    "        print(\"Bucket {} created.\".format(bucket_name))\n",
    "        \n",
    "    s3.meta.client.upload_file(file_name, bucket_name, file_name)\n",
    "    print(\"{} uploaded to {}.\".format(file_name, bucket_name))\n",
    "    return\n",
    "\n",
    "\n",
    "def aws_s3_delete(file_name, bucket_name, del_bucket=False):\n",
    "    s3 = boto3.resource('s3')\n",
    "    try:\n",
    "        s3.meta.client.delete_object(Bucket=bucket_name, Key=file_name)\n",
    "        print(\"{} deleted from {}.\".format(file_name, bucket_name))\n",
    "    except:\n",
    "        print(\"Unable to delete {} from {}.\".format(file_name, bucket_name))\n",
    "        \n",
    "    if del_bucket:\n",
    "        try:\n",
    "            s3.meta.client.delete_bucket(Bucket=bucket_name)\n",
    "            print(\"Bucket {} deleted.\".format(bucket_name))\n",
    "        except:\n",
    "            print(\"Unable to delete bucket {}.\".format(bucket_name))    \n",
    "    return"
   ]
  },
  {
   "cell_type": "code",
   "execution_count": 3,
   "metadata": {},
   "outputs": [],
   "source": [
    "def aws_transcribe(file_name, bucket_name):\n",
    "    client = boto3.client(service_name='transcribe',\n",
    "                          region_name='eu-west-1',\n",
    "                          use_ssl=True)\n",
    "    job_name = 'example_%s' % round(time.time())\n",
    "    job_uri = 's3://%s/%s' % (bucket_name, file_name)\n",
    "    client.start_transcription_job(\n",
    "        TranscriptionJobName=job_name,\n",
    "        Media={'MediaFileUri': job_uri},\n",
    "        MediaFormat=file_name[-3:],\n",
    "        LanguageCode='en-US'\n",
    "    )\n",
    "    tic = time.time()\n",
    "    while True:\n",
    "        status = client.get_transcription_job(TranscriptionJobName=job_name)\n",
    "        if status['TranscriptionJob']['TranscriptionJobStatus'] in ['COMPLETED', 'FAILED']:\n",
    "            break\n",
    "        toc = time.time()\n",
    "        print(\"Transcription still processing... cumulative run time: {:.1f}s\".format(toc-tic))\n",
    "        time.sleep(10)\n",
    "    print(\"Transcription completed! Total run time: {:.1f}s\".format(toc-tic))\n",
    "    \n",
    "    json_url = status['TranscriptionJob']['Transcript']['TranscriptFileUri']\n",
    "    with urllib.request.urlopen(json_url) as url:\n",
    "        text = json.loads(url.read().decode())\n",
    "    return text['results']['transcripts'][0]['transcript']"
   ]
  },
  {
   "cell_type": "code",
   "execution_count": 4,
   "metadata": {},
   "outputs": [],
   "source": [
    "file_name = 'the_raven.mp3'\n",
    "bucket_name = 'your_bucket_name'"
   ]
  },
  {
   "cell_type": "code",
   "execution_count": 5,
   "metadata": {},
   "outputs": [
    {
     "name": "stdout",
     "output_type": "stream",
     "text": [
      "the_raven.mp3 uploaded to your_bucket_name.\n",
      "Transcription still processing... cumulative run time: 0.1s\n",
      "Transcription still processing... cumulative run time: 10.1s\n",
      "Transcription still processing... cumulative run time: 20.2s\n",
      "Transcription still processing... cumulative run time: 30.3s\n",
      "Transcription still processing... cumulative run time: 40.5s\n",
      "Transcription still processing... cumulative run time: 50.6s\n",
      "Transcription still processing... cumulative run time: 60.7s\n",
      "Transcription still processing... cumulative run time: 70.7s\n",
      "Transcription still processing... cumulative run time: 80.8s\n",
      "Transcription completed! Total run time: 80.8s\n",
      "the_raven.mp3 deleted from your_bucket_name.\n"
     ]
    }
   ],
   "source": [
    "aws_s3_upload(file_name, bucket_name)\n",
    "result = aws_transcribe(file_name, bucket_name)\n",
    "aws_s3_delete(file_name, bucket_name)"
   ]
  },
  {
   "cell_type": "code",
   "execution_count": 6,
   "metadata": {},
   "outputs": [
    {
     "name": "stdout",
     "output_type": "stream",
     "text": [
      "Once upon a midnight dreary, while i pondered, weak and weary over many a quaint and curious volume of forgotten law, while i nodded, nearly napping. Suddenly there came a tapping as of someone gently rapping, rapping at my chamber door. To some visitor, i muttered, tapping at my chamber door. Only this and nothing more.\n"
     ]
    }
   ],
   "source": [
    "# Print transcription\n",
    "print(result)"
   ]
  },
  {
   "cell_type": "code",
   "execution_count": null,
   "metadata": {},
   "outputs": [],
   "source": []
  }
 ],
 "metadata": {
  "kernelspec": {
   "display_name": "Python 3",
   "language": "python",
   "name": "python3"
  },
  "language_info": {
   "codemirror_mode": {
    "name": "ipython",
    "version": 3
   },
   "file_extension": ".py",
   "mimetype": "text/x-python",
   "name": "python",
   "nbconvert_exporter": "python",
   "pygments_lexer": "ipython3",
   "version": "3.6.5"
  }
 },
 "nbformat": 4,
 "nbformat_minor": 2
}
