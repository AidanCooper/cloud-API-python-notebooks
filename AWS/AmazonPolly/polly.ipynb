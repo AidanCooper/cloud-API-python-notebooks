{
 "cells": [
  {
   "cell_type": "markdown",
   "metadata": {},
   "source": [
    "# Amazon Polly"
   ]
  },
  {
   "cell_type": "markdown",
   "metadata": {},
   "source": [
    "Converts the contents of a .txt file to a spoken .mp3, and saves the output locally.\n",
    "\n",
    "<a href='https://aws.amazon.com/documentation/polly/'>Amazon Polly Documentation</a>"
   ]
  },
  {
   "cell_type": "code",
   "execution_count": 5,
   "metadata": {
    "collapsed": true
   },
   "outputs": [],
   "source": [
    "import boto3\n",
    "import codecs\n",
    "import os\n",
    "from contextlib import closing"
   ]
  },
  {
   "cell_type": "code",
   "execution_count": 6,
   "metadata": {
    "collapsed": true
   },
   "outputs": [],
   "source": [
    "def aws_speech(file_name):\n",
    "    text_file = file_name + '.txt'\n",
    "    output_file = file_name + '.mp3'\n",
    "    \n",
    "    f = codecs.open(text_file, encoding='utf-8')\n",
    "    text = ''\n",
    "    for line in f:\n",
    "        text += line\n",
    "    \n",
    "    client = boto3.client('polly', 'eu-west-1')\n",
    "    response = client.synthesize_speech(\n",
    "        OutputFormat='mp3',\n",
    "        Text=text,\n",
    "        VoiceId='Amy')\n",
    "    if \"AudioStream\" in response:\n",
    "        with closing(response[\"AudioStream\"]) as stream:\n",
    "            output = output_file\n",
    "            try:\n",
    "                with open(output, \"wb\") as file:\n",
    "                    file.write(stream.read())\n",
    "            except IOError as error:\n",
    "                print(error)\n",
    "                \n",
    "    return response\n",
    "\n",
    "\n",
    "def get_text(file_name):\n",
    "    text_file = file_name + '.txt'\n",
    "    text = ''\n",
    "    f = codecs.open(text_file, encoding='utf-8')\n",
    "    for line in f:\n",
    "        text += line\n",
    "    f.close()\n",
    "    return text"
   ]
  },
  {
   "cell_type": "code",
   "execution_count": 7,
   "metadata": {
    "collapsed": false
   },
   "outputs": [
    {
     "name": "stdout",
     "output_type": "stream",
     "text": [
      "Once upon a midnight dreary, while I pondered, weak and weary,\n",
      "Over many a quaint and curious volume of forgotten lore—\n",
      "While I nodded, nearly napping, suddenly there came a tapping,\n",
      "As of some one gently rapping, rapping at my chamber door.\n",
      "“’Tis some visitor,” I muttered, “tapping at my chamber door—Only this and nothing more.”\n"
     ]
    }
   ],
   "source": [
    "file_name = 'the_raven'\n",
    "text = get_text(file_name)\n",
    "print(text)"
   ]
  },
  {
   "cell_type": "code",
   "execution_count": 8,
   "metadata": {
    "collapsed": true
   },
   "outputs": [],
   "source": [
    "response = aws_speech(file_name)"
   ]
  },
  {
   "cell_type": "code",
   "execution_count": 9,
   "metadata": {
    "collapsed": true
   },
   "outputs": [],
   "source": [
    "os.startfile(file_name + '.mp3')"
   ]
  },
  {
   "cell_type": "code",
   "execution_count": null,
   "metadata": {
    "collapsed": true
   },
   "outputs": [],
   "source": []
  }
 ],
 "metadata": {
  "kernelspec": {
   "display_name": "Python 3",
   "language": "python",
   "name": "python3"
  },
  "language_info": {
   "codemirror_mode": {
    "name": "ipython",
    "version": 3
   },
   "file_extension": ".py",
   "mimetype": "text/x-python",
   "name": "python",
   "nbconvert_exporter": "python",
   "pygments_lexer": "ipython3",
   "version": "3.6.0"
  }
 },
 "nbformat": 4,
 "nbformat_minor": 2
}
