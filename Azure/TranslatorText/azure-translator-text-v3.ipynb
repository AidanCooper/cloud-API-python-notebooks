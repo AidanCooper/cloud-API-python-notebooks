{
 "cells": [
  {
   "cell_type": "markdown",
   "metadata": {},
   "source": [
    "# Azure Translator V3"
   ]
  },
  {
   "cell_type": "markdown",
   "metadata": {},
   "source": [
    "Translate text to a specified target language (supported languages <a href=\"https://www.microsoft.com/en-us/translator/languages.aspx\">here</a>).\n",
    "\n",
    "<a href=\"https://docs.microsoft.com/en-us/azure/cognitive-services/translator/\">Azure Translator Documentation</a>"
   ]
  },
  {
   "cell_type": "code",
   "execution_count": 1,
   "metadata": {
    "collapsed": true
   },
   "outputs": [],
   "source": [
    "import http.client\n",
    "import urllib.parse\n",
    "import uuid\n",
    "import json"
   ]
  },
  {
   "cell_type": "code",
   "execution_count": 2,
   "metadata": {
    "collapsed": true
   },
   "outputs": [],
   "source": [
    "def azure_translate(target, text):\n",
    "    api_key = 'YOUR API KEY HERE'\n",
    "    \n",
    "    requestBody = [{\n",
    "        'Text': text,\n",
    "    }]\n",
    "    content = json.dumps(requestBody, ensure_ascii=False).encode('utf-8')\n",
    "\n",
    "    host = 'api.cognitive.microsofttranslator.com'\n",
    "    path = '/translate?api-version=3.0'\n",
    "    params = '&to=%s' % target\n",
    "    headers = {'Ocp-Apim-Subscription-Key': api_key,\n",
    "               'Content-type': 'application/json',\n",
    "               'X-ClientTraceId': str(uuid.uuid4())}\n",
    "    \n",
    "    conn = http.client.HTTPSConnection(host)\n",
    "    conn.request(\"POST\", path+params, content, headers)\n",
    "    response = conn.getresponse()\n",
    "    output = json.loads(response.read())[0]['translations'][0]['text']\n",
    "    \n",
    "    return output"
   ]
  },
  {
   "cell_type": "code",
   "execution_count": 3,
   "metadata": {
    "collapsed": true
   },
   "outputs": [],
   "source": [
    "input_text = \"ここにAzure翻訳のための日本語のセンテンスがあります！\"\n",
    "result = azure_translate('en', input_text)"
   ]
  },
  {
   "cell_type": "code",
   "execution_count": 4,
   "metadata": {},
   "outputs": [
    {
     "name": "stdout",
     "output_type": "stream",
     "text": [
      "Here is Japanese sentence for azure translation!\n"
     ]
    }
   ],
   "source": [
    "# Print translated text\n",
    "print(result)"
   ]
  },
  {
   "cell_type": "code",
   "execution_count": null,
   "metadata": {
    "collapsed": true
   },
   "outputs": [],
   "source": []
  }
 ],
 "metadata": {
  "kernelspec": {
   "display_name": "Python 3",
   "language": "python",
   "name": "python3"
  },
  "language_info": {
   "codemirror_mode": {
    "name": "ipython",
    "version": 3
   },
   "file_extension": ".py",
   "mimetype": "text/x-python",
   "name": "python",
   "nbconvert_exporter": "python",
   "pygments_lexer": "ipython3",
   "version": "3.6.1"
  }
 },
 "nbformat": 4,
 "nbformat_minor": 2
}
